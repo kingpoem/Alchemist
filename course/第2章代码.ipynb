{
 "cells": [
  {
   "cell_type": "code",
   "execution_count": null,
   "id": "89aeacbd",
   "metadata": {},
   "outputs": [],
   "source": [
    "import torch\n",
    "import torch.nn as nn\n",
    "from torch.utils.data import DataLoader\n",
    "from torchvision import transforms\n",
    "from torchvision import datasets\n",
    "import matplotlib.pyplot as plt\n",
    "%matplotlib inline"
   ]
  },
  {
   "cell_type": "code",
   "execution_count": null,
   "id": "0dc91821",
   "metadata": {},
   "outputs": [],
   "source": [
    "# 展示高清图\n",
    "from matplotlib_inline import backend_inline\n",
    "backend_inline.set_matplotlib_formats('svg')"
   ]
  },
  {
   "cell_type": "code",
   "execution_count": null,
   "id": "613428a6",
   "metadata": {},
   "outputs": [],
   "source": [
    "# 制作数据集\n",
    "\n",
    "# 设定下载参数\n",
    "transform = transforms.Compose([\n",
    "    transforms.ToTensor(), \n",
    "    transforms.Normalize(0.1307, 0.3081)\n",
    "])\n",
    "\n",
    "# 下载训练集与测试集\n",
    "train_Data = datasets.MNIST(\n",
    "    root = 'D:/Jupyter/dataset/mnist/', \n",
    "    train = True, \n",
    "    download = True, \n",
    "    transform = transform\n",
    ")\n",
    "test_Data = datasets.MNIST(\n",
    "    root = 'D:/Jupyter/dataset/mnist/', \n",
    "    train = False, \n",
    "    download = True, \n",
    "    transform = transform\n",
    ")"
   ]
  },
  {
   "cell_type": "code",
   "execution_count": null,
   "id": "5ca6050e",
   "metadata": {},
   "outputs": [],
   "source": [
    "# 批次加载器\n",
    "train_loader = DataLoader(train_Data, shuffle=True, batch_size=256)\n",
    "test_loader  = DataLoader(test_Data, shuffle=False, batch_size=256)"
   ]
  },
  {
   "cell_type": "markdown",
   "id": "7d21cbb8",
   "metadata": {},
   "source": [
    "CNN 类继承自 nn.Module，这是 PyTorch 中所有神经网络模型的基类。\n",
    "__init__ 方法是类的构造函数，用于初始化网络的各个层。nn.Sequential 是一个容器，按顺序包含多个网络层。\n",
    "\n",
    "nn.Conv2d(1, 6, kernel_size=5, padding=2)：第一个卷积层，输入通道数为1（灰度图像），输出通道数为6，卷积核大小为5x5，填充为2。\n",
    "nn.Tanh()：激活函数，使用双曲正切函数。\n",
    "nn.AvgPool2d(kernel_size=2, stride=2)：第一个平均池化层，池化窗口大小为2x2，步幅为2。\n",
    "nn.Conv2d(6, 16, kernel_size=5)：第二个卷积层，输入通道数为6，输出通道数为16，卷积核大小为5x5。\n",
    "nn.Tanh()：激活函数。\n",
    "nn.AvgPool2d(kernel_size=2, stride=2)：第二个平均池化层，池化窗口大小为2x2，步幅为2。\n",
    "nn.Conv2d(16, 120, kernel_size=5)：第三个卷积层，输入通道数为16，输出通道数为120，卷积核大小为5x5。\n",
    "nn.Tanh()：激活函数。\n",
    "nn.Flatten()：将多维张量展平成一维。\n",
    "nn.Linear(120, 84)：全连接层，输入大小为120，输出大小为84。\n",
    "nn.Tanh()：激活函数。\n",
    "nn.Linear(84, 10)：全连接层，输入大小为84，输出大小为10（假设这是一个10类分类问题）。"
   ]
  },
  {
   "cell_type": "code",
   "execution_count": null,
   "id": "d4083510",
   "metadata": {},
   "outputs": [],
   "source": [
    "class CNN(nn.Module):\n",
    "    def __init__(self):\n",
    "        super(CNN,self).__init__()\n",
    "        self.net = nn.Sequential(\n",
    "            nn.Conv2d(1, 6, kernel_size=5, padding=2), nn.Tanh(),\n",
    "            nn.AvgPool2d(kernel_size=2, stride=2),\n",
    "            nn.Conv2d(6, 16, kernel_size=5), nn.Tanh(),\n",
    "            nn.AvgPool2d(kernel_size=2, stride=2),\n",
    "            nn.Conv2d(16, 120, kernel_size=5), nn.Tanh(),\n",
    "            nn.Flatten(),\n",
    "            nn.Linear(120, 84), nn.Tanh(),\n",
    "            nn.Linear(84, 10)\n",
    "        )\n",
    "\n",
    "    def forward(self, x):\n",
    "        y = self.net(x)\n",
    "        return y"
   ]
  },
  {
   "cell_type": "code",
   "execution_count": null,
   "id": "32838aa2",
   "metadata": {},
   "outputs": [],
   "source": [
    "# 查看网络结构\n",
    "X = torch.rand(size= (1, 1, 28, 28))\n",
    "for layer in CNN().net:\n",
    "    X = layer(X)\n",
    "    print( layer.__class__.__name__, 'output shape: \\t', X.shape )"
   ]
  },
  {
   "cell_type": "code",
   "execution_count": null,
   "id": "2cee54d9",
   "metadata": {},
   "outputs": [],
   "source": [
    "# 创建子类的实例，并搬到GPU上\n",
    "model = CNN().to('cuda:0')"
   ]
  },
  {
   "cell_type": "code",
   "execution_count": null,
   "id": "b8535479",
   "metadata": {},
   "outputs": [],
   "source": [
    "# 损失函数的选择\n",
    "loss_fn = nn.CrossEntropyLoss()    # 自带softmax激活函数"
   ]
  },
  {
   "cell_type": "code",
   "execution_count": null,
   "id": "4b18602f",
   "metadata": {},
   "outputs": [],
   "source": [
    "# 优化算法的选择\n",
    "learning_rate = 0.9    # 设置学习率\n",
    "optimizer = torch.optim.SGD(\n",
    "    model.parameters(), \n",
    "    lr = learning_rate, \n",
    ")"
   ]
  },
  {
   "cell_type": "code",
   "execution_count": null,
   "id": "d3530683",
   "metadata": {},
   "outputs": [],
   "source": [
    "# 训练网络\n",
    "epochs = 5\n",
    "losses = []        # 记录损失函数变化的列表\n",
    "\n",
    "for epoch in range(epochs):\n",
    "    for (x, y) in train_loader:                  # 获取小批次的x与y\n",
    "        x, y = x.to('cuda:0'), y.to('cuda:0')    # 把小批次搬到GPU上\n",
    "        Pred = model(x)                          # 一次前向传播（小批量）\n",
    "        loss = loss_fn(Pred, y)                  # 计算损失函数\n",
    "        losses.append(loss.item())               # 记录损失函数的变化\n",
    "        optimizer.zero_grad()                    # 清理上一轮滞留的梯度\n",
    "        loss.backward()                          # 一次反向传播\n",
    "        optimizer.step()                         # 优化内部参数\n",
    "\n",
    "Fig = plt.figure()\n",
    "plt.plot(range(len(losses)), losses)\n",
    "plt.show()"
   ]
  },
  {
   "cell_type": "code",
   "execution_count": null,
   "id": "8ba194ad",
   "metadata": {},
   "outputs": [],
   "source": [
    "# 测试网络\n",
    "correct = 0\n",
    "total = 0\n",
    "\n",
    "with torch.no_grad():                                   # 该局部关闭梯度计算功能\n",
    "    for (x, y) in test_loader:                          # 获取小批次的x与y\n",
    "        x, y = x.to('cuda:0'), y.to('cuda:0')           # 把小批次搬到GPU上\n",
    "        Pred = model(x)                                 # 一次前向传播（小批量）\n",
    "        _, predicted = torch.max(Pred.data, dim=1)\n",
    "        correct += torch.sum( (predicted == y) )\n",
    "        total += y.size(0) \n",
    "        \n",
    "print(f'测试集精准度: {100*correct/total} %')"
   ]
  },
  {
   "cell_type": "code",
   "execution_count": null,
   "id": "f906684a",
   "metadata": {},
   "outputs": [],
   "source": []
  }
 ],
 "metadata": {
  "kernelspec": {
   "display_name": "DL",
   "language": "python",
   "name": "python3"
  },
  "language_info": {
   "codemirror_mode": {
    "name": "ipython",
    "version": 3
   },
   "file_extension": ".py",
   "mimetype": "text/x-python",
   "name": "python",
   "nbconvert_exporter": "python",
   "pygments_lexer": "ipython3",
   "version": "3.12.4"
  }
 },
 "nbformat": 4,
 "nbformat_minor": 5
}
