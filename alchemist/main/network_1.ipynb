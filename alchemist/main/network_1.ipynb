{
 "cells": [
  {
   "cell_type": "markdown",
   "metadata": {},
   "source": [
    "# 晶体结构炼丹\n",
    "\n",
    "## 项目简介\n",
    "\n",
    "- 结构预测->性质推算->应用前景\n",
    "1. 数据收集与预处理：\n",
    "- 数据来源：Materials Project（包含超导材料及其物理特性）\n",
    "- 数据预处理：将原子结构抽象成一个矢量（编码算法：dscribe）\n",
    "            缺失值处理、归一/标准化\n",
    "2. 特征选择：运用深度学习模型预测材料的各类物理，依赖于选择的输入特征：\n",
    "- 物理和化学特征：原子质量、电负性、价电子数、晶体结构参数\n",
    "- 电子结构特性：能带结构、电子密度\n",
    "   通过上列特征，我们的模型可以找到材料属性与各类物理参数的关系（如临界磁场、临界温度等）\n",
    "3. 构建模型\n",
    "4. 训练模型：使用深度学习模型对矢量进行编码，训练模型对晶体结构进行预测\n",
    "5. 模型评估：\n",
    "- 均方误差\n",
    "- 决定系数\n",
    "6. 模型优化与调参\n",
    "7. 预测结果：将原子结构编码为矢量，输入到训练好的模型中，得到晶体结构预测结果\n",
    "8. 分析结果：对预测结果进行分析，判断是否合理，并给出相应建议\n",
    "\n",
    "## 相关网站\n",
    "\n",
    "1. [materials project](https://legacy.materialsproject.org/https://www.alchemist.cn/)\n",
    "- 功能：Materials Project是一个开放的平台，提供超过100万种材料的结构和属性数据，包括晶体结构、电子结构、化学反应等。\n",
    "- api key: qRXdiSv5TgTZyK3Pn\n",
    "\n",
    "2. [vesta](https://jp-minerals.org/vesta/en/download.html)\n",
    "- 功能：VESTA是一款免费的可视化软件，主要用于帮助研究者利用第一性原理计算得到的数据制作出高质量的图片。它可以读取并处理多种文件格式，如Materials Studio（MS）生成的CIF文件，并将其转化为计算所用的POSCAR文件，从而节省在MS中手动设置基矢和导出原子位置的时间。\n",
    "- 应用：VESTA与MS两款软件结合使用，可以完成第一性原理计算中的大部分模型处理和作图分析工作。\n",
    "\n",
    "3. [oqmd](https://www.oqmd.org/)\n",
    "- 功能：OQMD是一个开放的平台，提供了丰富的量子材料数据，包括材料的性质、结构、计算方法等\n",
    "\n",
    "4. [dscribe](https://singroup.github.io/dscribe/latest/tutorials/tutorials.html#)\n",
    "\n",
    "## 相关论文\n",
    "\n",
    "1. [使用具有不确定性量化的无迭代深度生成模型进行可扩展的晶体结构弛豫](https://www.nature.com/articles/s41467-024-52378-3)\n",
    "2. [Lecture Notes: BCS Theory of Superconductivity](https://docslib.org/doc/12339/lecture-notes-bcs-theory-of-superconductivity)\n",
    "\n",
    "## 补充知识\n",
    "\n",
    "### 密度泛函理论(DFT)\n",
    "- 第一性原理计算是一种基于量子力学基本原理的计算方法，它不依赖于任何实验数据或经验参数，直接从最基本的物理规律出发来预测材料的性质。\n",
    "- 密度泛函理论（Density Functional Theory, DFT）则是第一性原理计算中应用最为广泛的一种方法。\n",
    "- 核心思想：它用电子密度分布（而非传统的多电子波函数）来描述多电子系统的基本性质，极大地简化了多电子问题的处理，使得我们能够通过计算机模拟来预测材料的电子结构、能带结构、磁性、光学性质、热力学性质等一系列重要参数。\n",
    "- 在DFT中，Kohn-Sham方程扮演着至关重要的角色。这一方程通过将多电子问题转化为一个无相互作用的电子在有效势场中运动的问题，极大地简化了计算过程。通过求解Kohn-Sham方程，我们可以得到电子的基态能量和密度分布，进而推导出材料的各种性质。\n",
    "\n",
    "### 结构弛豫(relaxation)\n",
    "- 结构弛豫是指在计算过程中，将材料的初始结构与某种能量场的配合，使其逐渐转变为一种更稳定的结构。\n",
    "- 结构弛豫是DFT计算的重要组成部分，它可以使得计算结果更加精确、更加接近真实材料的性质。\n",
    "- 开发结构弛豫机器学习模型一DeepRelax,该模型通过单步计算即可直接预测出比初始结构更稳定、且十分接近DFT最终优化结构,的结果，从而避免了DFT中大量选代计算所带来的瓶颈,DeepRelax还具备并行结构优化的能力，这一特点使其在高通量材料筛选和计算中的,应用价值得到显著提升。,其计算内容：,笛卡尔坐标、键长、晶格矩阵和细胞体积的平均绝对误差（MAE),计算匹配率一一衡量预测的松弛结构在定义的容差内与其真实对应结构的匹配程度,还要做晶格结构的可视化（用老师推荐的那个软件）,算完了以后进行验证和分析,Ps：概念弛豫：简单来说是分子受到外界能量激发，逐渐恢复到平衡状态的过程。涉,及到材料的稳定性,我们应用主要在①找到其基态，测算后续物理和化学性质②验证材料稳定性\n"
   ]
  },
  {
   "cell_type": "markdown",
   "metadata": {},
   "source": [
    "安装依赖"
   ]
  },
  {
   "cell_type": "code",
   "execution_count": null,
   "metadata": {
    "vscode": {
     "languageId": "bat"
    }
   },
   "outputs": [],
   "source": [
    "%pip install scikit-learn\n",
    "%pip install dscribe"
   ]
  },
  {
   "cell_type": "markdown",
   "metadata": {},
   "source": [
    "下载晶体结构数据：\n",
    "使用 pymatgen 来下载 Material Project 中的晶体结构数据。"
   ]
  },
  {
   "cell_type": "code",
   "execution_count": 1,
   "metadata": {},
   "outputs": [
    {
     "name": "stderr",
     "output_type": "stream",
     "text": [
      "/home/poem/.conda/envs/alchemist_1/lib/python3.12/site-packages/pymatgen/ext/matproj_legacy.py:168: UserWarning: You are using the legacy MPRester. This version of the MPRester will no longer be updated. To access the latest data with the new MPRester, obtain a new API key from https://materialsproject.org/api and consult the docs at https://docs.materialsproject.org/ for more information.\n",
      "  warnings.warn(\n"
     ]
    }
   ],
   "source": [
    "from pymatgen.ext.matproj import MPRester\n",
    "\n",
    "# 使用你的 Material Project API key \n",
    "api_key = \"qRXdiSv5TgTZyK3Pn\"\n",
    "mpr = MPRester(api_key)\n",
    "\n",
    "# 获取一些晶体结构\n",
    "structures = mpr.get_structures('mp-149')  # 替换为你感兴趣的材料 ID\n"
   ]
  },
  {
   "cell_type": "code",
   "execution_count": 4,
   "metadata": {},
   "outputs": [
    {
     "data": {
      "text/plain": [
       "['System',\n",
       " '__builtins__',\n",
       " '__cached__',\n",
       " '__doc__',\n",
       " '__file__',\n",
       " '__loader__',\n",
       " '__name__',\n",
       " '__package__',\n",
       " '__path__',\n",
       " '__spec__',\n",
       " 'core',\n",
       " 'descriptors',\n",
       " 'ext',\n",
       " 'utils']"
      ]
     },
     "execution_count": 4,
     "metadata": {},
     "output_type": "execute_result"
    }
   ],
   "source": [
    "import dscribe\n",
    "dir(dscribe)        "
   ]
  },
  {
   "cell_type": "markdown",
   "metadata": {},
   "source": [
    "使用 dscribe 生成描述符：\n",
    "dscribe 支持多种晶体结构描述符，如 CoulombMatrix 和 SOAP"
   ]
  },
  {
   "cell_type": "code",
   "execution_count": 2,
   "metadata": {},
   "outputs": [
    {
     "ename": "TypeError",
     "evalue": "CoulombMatrix.__init__() got an unexpected keyword argument 'flatten'",
     "output_type": "error",
     "traceback": [
      "\u001b[0;31m---------------------------------------------------------------------------\u001b[0m",
      "\u001b[0;31mTypeError\u001b[0m                                 Traceback (most recent call last)",
      "Cell \u001b[0;32mIn[2], line 4\u001b[0m\n\u001b[1;32m      1\u001b[0m \u001b[38;5;28;01mfrom\u001b[39;00m \u001b[38;5;21;01mdscribe\u001b[39;00m\u001b[38;5;21;01m.\u001b[39;00m\u001b[38;5;21;01mdescriptors\u001b[39;00m \u001b[38;5;28;01mimport\u001b[39;00m CoulombMatrix\n\u001b[1;32m      3\u001b[0m \u001b[38;5;66;03m# 创建Coulomb矩阵描述符\u001b[39;00m\n\u001b[0;32m----> 4\u001b[0m cm \u001b[38;5;241m=\u001b[39m CoulombMatrix(n_atoms_max\u001b[38;5;241m=\u001b[39m\u001b[38;5;241m30\u001b[39m, flatten\u001b[38;5;241m=\u001b[39m\u001b[38;5;28;01mTrue\u001b[39;00m)\n\u001b[1;32m      6\u001b[0m \u001b[38;5;66;03m# 将晶体结构转化为描述符\u001b[39;00m\n\u001b[1;32m      7\u001b[0m structure \u001b[38;5;241m=\u001b[39m structures[\u001b[38;5;241m0\u001b[39m]\n",
      "\u001b[0;31mTypeError\u001b[0m: CoulombMatrix.__init__() got an unexpected keyword argument 'flatten'"
     ]
    }
   ],
   "source": [
    "from dscribe.descriptors import CoulombMatrix\n",
    "\n",
    "# 创建Coulomb矩阵描述符\n",
    "cm = CoulombMatrix(n_atoms_max=30, flatten=True)\n",
    "\n",
    "# 将晶体结构转化为描述符\n",
    "structure = structures[0]\n",
    "cm_descriptor = cm.create(structure)\n"
   ]
  },
  {
   "cell_type": "markdown",
   "metadata": {},
   "source": [
    "设计 CNN 模型：\n",
    "你可以使用 Keras（内置于 TensorFlow 中）来创建一个简单的 CNN 模型。以下是一个基本的 CNN 模型结构："
   ]
  },
  {
   "cell_type": "code",
   "execution_count": null,
   "metadata": {},
   "outputs": [],
   "source": [
    "import tensorflow as tf\n",
    "from tensorflow.keras.models import Sequential\n",
    "from tensorflow.keras.layers import Conv1D, Dense, Flatten\n",
    "\n",
    "# 创建一个简单的1D卷积神经网络\n",
    "model = Sequential([\n",
    "    Conv1D(filters=32, kernel_size=3, activation='relu', input_shape=(cm_descriptor.shape[0], 1)),\n",
    "    Flatten(),\n",
    "    Dense(64, activation='relu'),\n",
    "    Dense(1, activation='sigmoid')  # 用于二分类问题\n",
    "])\n",
    "\n",
    "model.compile(optimizer='adam', loss='binary_crossentropy', metrics=['accuracy'])\n"
   ]
  },
  {
   "cell_type": "markdown",
   "metadata": {},
   "source": [
    "训练和评估模型：\n",
    "在训练前，确保你将数据整理成适合 CNN 输入的格式："
   ]
  },
  {
   "cell_type": "code",
   "execution_count": null,
   "metadata": {},
   "outputs": [],
   "source": [
    "import numpy as np\n",
    "from sklearn.model_selection import train_test_split\n",
    "\n",
    "# 假设你有多组描述符和对应的标签（高温超导体:1, 非高温超导体:0）\n",
    "X = np.array([cm.create(s) for s in structures])  # 转换为描述符矩阵\n",
    "y = np.array([1, 0, 0, 1, 0])  # 示例标签\n",
    "\n",
    "# 规范化数据\n",
    "X = X.reshape((X.shape[0], X.shape[1], 1))\n",
    "\n",
    "# 划分训练集和测试集\n",
    "X_train, X_test, y_train, y_test = train_test_split(X, y, test_size=0.2)\n",
    "\n",
    "# 训练模型\n",
    "model.fit(X_train, y_train, epochs=10, batch_size=16, validation_data=(X_test, y_test))\n"
   ]
  },
  {
   "cell_type": "markdown",
   "metadata": {},
   "source": [
    "模型预测：\n",
    "训练完成后，你可以使用模型对新的数据进行预测："
   ]
  },
  {
   "cell_type": "code",
   "execution_count": null,
   "metadata": {},
   "outputs": [],
   "source": [
    "predictions = model.predict(X_test)"
   ]
  }
 ],
 "metadata": {
  "kernelspec": {
   "display_name": "pytorch",
   "language": "python",
   "name": "python3"
  },
  "language_info": {
   "codemirror_mode": {
    "name": "ipython",
    "version": 3
   },
   "file_extension": ".py",
   "mimetype": "text/x-python",
   "name": "python",
   "nbconvert_exporter": "python",
   "pygments_lexer": "ipython3",
   "version": "3.12.5"
  }
 },
 "nbformat": 4,
 "nbformat_minor": 2
}
