{
 "cells": [
  {
   "cell_type": "markdown",
   "metadata": {},
   "source": [
    "### 环境准备：\n",
    "- enviroments.yml 中 prefix 更改为自己虚拟环境的路径\n",
    "- `conda env create --file enviroments.yml`\n",
    "\n",
    "### ToDo:\n",
    "- CPU并行处理 or GPU并行处理\n",
    "- 画图\n",
    "- 性能评估指标\n",
    "- 进度条（尤指模型训练过程）\n",
    "- 考虑使用稀疏矩阵（因为有大量的0填充）\n",
    "\n",
    "### 调参：\n",
    "soap算法中的参数\n",
    "随机森林中的树的数目\n",
    "\n",
    "如果调参调不出好的效果，考虑换算法（soap换成其他算法）,换模型（深度神经网络，使用pytorch）\n",
    "\n",
    "### 其他：\n",
    "\n",
    "#### 算法对比：\n",
    "- soap算法擅长处理局部结构信息。\n",
    "- Fingerprint算法擅长处理分子的相似性分析。\n",
    "\n",
    "#### 调试技巧：\n",
    "- dir查看有哪些方法和属性\n",
    "- help查看详细信息\n",
    "- pprint的用法:   `pprint(dir(networkx),indent=4,width=100,compact=True)`"
   ]
  },
  {
   "cell_type": "markdown",
   "metadata": {},
   "source": [
    "### 数据预处理"
   ]
  },
  {
   "cell_type": "code",
   "execution_count": 2,
   "metadata": {},
   "outputs": [
    {
     "name": "stdout",
     "output_type": "stream",
     "text": [
      "[   'Ti', 'Co', 'Sn', 'N', 'Zn', 'Sb', 'Rb', 'Sr', 'O', 'Te', 'Be', 'Hf', 'Li', 'Ta', 'Ir', 'Cl', 'Br', 'Tl', 'Mg',\n",
      "    'Si', 'Y', 'In', 'Se', 'Sc', 'Pd', 'Al', 'Ca', 'Cr', 'Cu', 'Ag', 'Cd', 'Pb', 'Zr', 'I', 'H', 'S', 'Mn', 'Re', 'Tc',\n",
      "    'Bi', 'Cs', 'Mo', 'Ru', 'Pt', 'Ge', 'Na', 'Au', 'Rh', 'Os', 'C', 'B', 'La', 'P', 'As', 'Lu', 'Ba', 'Ni', 'V', 'W',\n",
      "    'F', 'Ga', 'Fe', 'Nb', 'K', 'Hg']\n"
     ]
    }
   ],
   "source": [
    "import numpy as np\n",
    "import pandas as pd\n",
    "from tqdm import tqdm\n",
    "from ase.io import read\n",
    "from pprint import pprint\n",
    "import matplotlib.pyplot as plt\n",
    "from dscribe.descriptors import SOAP\n",
    "from sklearn.preprocessing import StandardScaler\n",
    "from sklearn.ensemble import RandomForestRegressor\n",
    "from sklearn.metrics import mean_squared_error\n",
    "from sklearn.model_selection import train_test_split\n",
    "# from concurrent.futures import ProcessPoolExecutor, as_completed\n",
    "\n",
    "with open('./data/supecon.csv', 'r') as file:\n",
    "    data = pd.read_csv(file)\n",
    "    pattern = r'([A-Z][a-z]?)(\\d*)'\n",
    "    elements = data['Formula'].str.findall(pattern).apply(lambda x: [match[0] for match in x])\n",
    "    all_elements = set()\n",
    "    all_elements.update(elements.explode().unique())\n",
    "    all_elements = list(all_elements)\n",
    "    # pprint(all_elements,indent=4,width=120,compact=True)\n",
    "    cifs = data['cif']\n",
    "    la = data['la']\n",
    "    wlog = data['wlog']\n",
    "    Tc_AD = data['Tc_AD']\n",
    "    features = []\n",
    "    labels = []\n",
    "    # 创建标准化器对象\n",
    "    scaler = StandardScaler()\n",
    "    # 创建SOAP描述符对象\n",
    "    soap = SOAP(\n",
    "        species=all_elements,\n",
    "        r_cut=5,# r_cut: 这是SOAP的截止距离，决定了参与计算的原子邻域的范围。选择合适的r_cut值可以影响计算的精度和效率。一般情况下，r_cut应根据原子之间的距离和体系的性质来选择，通常设置为5到10埃（Å）。\n",
    "        n_max=1,# n_max: 表示考虑的原子数的最大数量。通常在体系较为复杂，原子数较多的情况下，n_max可以设置得较高。一般选择2到4就足够，因为过高的值可能增加计算成本而收益有限。\n",
    "        l_max=1,# l_max: 这是球面谐函数的最大角量子数，它决定了描述电子环境的复杂程度。通常l_max值设置在3到6之间，具体取决于所需的描述精度。\n",
    "        sigma=0.2,# sigma: 这是平滑化参数，影响SOAP描述符的平滑程度。较小的sigma可能会导致计算结果对局部结构变化敏感，而较大的sigma则可能使得描述符过于平滑而丢失细节。一般建议从0.1开始选择，根据结果进行调整。\n",
    "        compression={\"mode\":\"off\",\"species_weighting\":None},\n",
    "        sparse=False,\n",
    "        dtype='float32'\n",
    "    )\n",
    "\n",
    "# pprint(soap.get_number_of_features())\n",
    "# pprint(dir(soap),indent=4,width=120,compact=True)\n",
    "# help(soap.__repr__)\n"
   ]
  },
  {
   "cell_type": "code",
   "execution_count": 3,
   "metadata": {},
   "outputs": [
    {
     "name": "stderr",
     "output_type": "stream",
     "text": [
      "读取并用ase解析cif文件,生成SOAP描述符: 100%|██████████| 8249/8249 [00:18<00:00, 438.31it/s]"
     ]
    },
    {
     "name": "stdout",
     "output_type": "stream",
     "text": [
      "8249\n"
     ]
    },
    {
     "name": "stderr",
     "output_type": "stream",
     "text": [
      "\n"
     ]
    }
   ],
   "source": [
    "features = []\n",
    "labels = []\n",
    "for i in tqdm(range(len(cifs)),desc=\"读取并用ase解析cif文件,生成SOAP描述符\"):\n",
    "    cif_file = data.loc[i,\"cif\"]\n",
    "    with open('temp_file.cif','w') as cif_output:\n",
    "        cif_output.write(cif_file)\n",
    "    atoms = read('temp_file.cif')\n",
    "    soap_descriptors = scaler.fit_transform(np.array(soap.create(atoms),dtype=np.float32))  # 转换为numpy数组ndarray\n",
    "    # 如果 soap.create(atoms) 返回的是一个稀疏数组\n",
    "    # sparse_descriptors = soap.create(atoms)\n",
    "    # dense_descriptors = sparse_descriptors.todense()  # 手动转换为密集数组\n",
    "    # soap_descriptors = scaler.fit_transform(np.array(dense_descriptors, dtype=np.float64))\n",
    "\n",
    "    features.append(soap_descriptors)\n",
    "    # features.append(soap_descriptors.flatten())\n",
    "    labels.append(data.loc[i,\"Tc_AD\"])\n",
    "    # features是一个包含多个ndarray的列表\n",
    "print(len(features))"
   ]
  },
  {
   "cell_type": "code",
   "execution_count": 4,
   "metadata": {},
   "outputs": [
    {
     "name": "stdout",
     "output_type": "stream",
     "text": [
      "'Padded features shape: (8249, 12, 4290)'\n"
     ]
    }
   ],
   "source": [
    "# 计算最大长度和宽度\n",
    "max_length = max(feature.shape[0] for feature in features)\n",
    "max_width = max(feature.shape[1] for feature in features)\n",
    "\n",
    "# 填充特征\n",
    "padded_features = np.array([\n",
    "    np.pad(feature, ((0, max_length - feature.shape[0]), (0, max_width - feature.shape[1])), mode='constant')\n",
    "    for feature in features\n",
    "], dtype=features[0].dtype)\n",
    "\n",
    "pprint(f'Padded features shape: {padded_features.shape}')"
   ]
  },
  {
   "cell_type": "code",
   "execution_count": 5,
   "metadata": {},
   "outputs": [
    {
     "name": "stdout",
     "output_type": "stream",
     "text": [
      "X_train shape: (5774, 51480)\n",
      "X_test shape: (2475, 51480)\n",
      "y_train shape: (5774,)\n",
      "y_test shape: (2475,)\n"
     ]
    }
   ],
   "source": [
    "# 划分数据集\n",
    "X_train, X_test, y_train, y_test = train_test_split(padded_features, labels, test_size=0.3, random_state=42, shuffle=True)\n",
    "\n",
    "# 将列表转换为 numpy 数组\n",
    "X_train = np.reshape(np.array(X_train),(5774,-1))\n",
    "X_test = np.reshape(np.array(X_test),(2475,-1))\n",
    "y_train = np.array(y_train)\n",
    "y_test = np.array(y_test)\n",
    "\n",
    "print(\"X_train shape:\", X_train.shape)\n",
    "print(\"X_test shape:\", X_test.shape)\n",
    "print(\"y_train shape:\", y_train.shape)\n",
    "print(\"y_test shape:\", y_test.shape)\n"
   ]
  },
  {
   "cell_type": "markdown",
   "metadata": {},
   "source": [
    "### 训练模型"
   ]
  },
  {
   "cell_type": "code",
   "execution_count": 1,
   "metadata": {},
   "outputs": [
    {
     "name": "stderr",
     "output_type": "stream",
     "text": [
      "训练进度:   0%|          | 0/1 [00:00<?, ?it/s]"
     ]
    }
   ],
   "source": [
    "# 创建随机森林模型\n",
    "model = RandomForestRegressor(n_estimators=100, random_state=0)\n",
    "\n",
    "# 使用 tqdm 包裹 fit 方法\n",
    "mse_list = []\n",
    "with tqdm(total=1, desc=\"训练进度\") as pbar:\n",
    "    # 训练模型\n",
    "    model.fit(X_train, y_train)\n",
    "\n",
    "# 进行预测\n",
    "y_pred = model.predict(X_train)  # 可以预测训练集，方便计算 MSE\n",
    "mse = mean_squared_error(y_train, y_pred)\n",
    "mse_list.append(mse)\n",
    "\n",
    "# 绘制训练后的 MSE（这里只记录了最终的MSE）\n",
    "plt.figure(figsize=(10, 6))\n",
    "plt.bar(['训练集'], mse_list, color='b')\n",
    "plt.title('训练集均方误差')\n",
    "plt.ylabel('均方误差')\n",
    "plt.ylim(0, max(mse_list) + 1)\n",
    "plt.grid()\n",
    "plt.show()\n",
    "\n",
    "# 评估模型性能\n",
    "y_pred = model.predict(X_test)  # 预测测试集\n",
    "mse_test = mean_squared_error(y_test, y_pred)\n",
    "\n",
    "# 打印均方误差\n",
    "pprint(f\"测试集均方误差: {mse_test}\")"
   ]
  }
 ],
 "metadata": {
  "kernelspec": {
   "display_name": "soap",
   "language": "python",
   "name": "python3"
  },
  "language_info": {
   "codemirror_mode": {
    "name": "ipython",
    "version": 3
   },
   "file_extension": ".py",
   "mimetype": "text/x-python",
   "name": "python",
   "nbconvert_exporter": "python",
   "pygments_lexer": "ipython3",
   "version": "3.10.14"
  }
 },
 "nbformat": 4,
 "nbformat_minor": 2
}
